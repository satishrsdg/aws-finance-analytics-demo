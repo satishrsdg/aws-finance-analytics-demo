{
 "cells": [
  {
   "cell_type": "markdown",
   "metadata": {},
   "source": [
    "# Explore AWS Streams \n",
    "\n",
    "## Section-2: Test the Kinesis streams (AWS CLI)"
   ]
  },
  {
   "cell_type": "code",
   "execution_count": 45,
   "metadata": {},
   "outputs": [
    {
     "name": "stdout",
     "output_type": "stream",
     "text": [
      "\u001b[?1l\u001b>24;80H1;24r\u001b[m\u001b[4l\u001b[H\u001b[2JEvery 2.0s: aws firehose put-reco...  sganesan-desktop: Fri Sep 13 11:53:05 2019\u001b[3;1H{\u001b[4;5H\"RecordId\": \"R/5Q/Gdb47t+p/0rEtrO80DS1HCkNH2uQCnTPycxhKiw/Wzbyw7mtT5EcFPZHpt\u001b[5;1Hd7g29h9aW395lHOrIJBJ6X8D8Cno1c/XnzNbclijQndklHGOTEftnPpg51QvEggTyxgCrTYrplelmXd4\u001b[6;1HHol9kF6qiunC2fDQT81jk1jPxz/yMpzdO/N7IqkUy4I7pwnMIwKkq+695UnDc3PCudbTEZ7hUQq0kLhv\u001b[7;1Hc\",\u001b[1B \"Encrypted\": false\u001b[1;75H8\u001b[4;19HBJKqSFHVE8MpXB0K2GCHim4MOxQaU2ikgXY1qpmPvAbWFTcSC+caFfFwZB7NtZ\u001b[5;1HPFnt4y0Y1ON1+7H6Qwg8Q8je09hs84wXLhNNd9Dbu6VoPzCBgifDWwTSHzbK5j6ww+3qXtLgoDwCmVxj\u001b[6;1HRtlTmbFCyXZOUIUUxcKmpnFPN0UAqQBl+pynTUO/xp7h0k4GueWPiHP8sKtrF8lTxE0/isOgzP6si+S5\u001b[7;1HC\u001b[24;80H\u001b[1;74H11\u001b[4;18HvxTWO376GHTm61qV4KUlx4EjU3Z8s0csp84uLVF1uc1d01wjzW0BDQFCOTtFup2\u001b[5;1HOesNI5/sJzLzByHFXfSQ6HNLey8KbPpfTa89j79h3Cef0NkIVYjc3dUHNK7taoOuJsr9RLmwdo/866dC\u001b[6;1HSRGHKJj52x6JxIrA7n9TClgOCsNNbQE6ZiPHUf5nylG96G3C8KJ5moUSJnfafTfHFuAejgMIOqChARRk\u001b[7;1HM\u001b[24;80H\u001b[1;75H4\u001b[4;18HQ+rKcIP2WYLnIpAbLpISY7zwtA0nQltDjhQyhhATHAWdblfpBuJyrUWIDBytY4Z\u001b[5;1H55y4FEV3xzMYCcv5M3UETmEf54cfnwDy9LnhwyPHL8QPkVV73GbRg9W4ZZLCqZzf8ZLcflRSg9pfgjpn\u001b[6;1HVDXyReCABjWzyP0F9ycvrVCyZPLR38tXl4seA8SX3hB2eKN5dT8IP29EkZLN/YutwEhfG18s/iypU9TG\u001b[7;1Hv\u001b[24;80H\u001b[1;75H6\u001b[4;18Hm0CTrx4qZLUnPL44AGHxzK0QoyOCDUzyRYA2nOvB5llmjUwVwoqFofBqztCYDNF\u001b[5;1HHRTPMkWU7DXEv8ZuZ7QBFn3wTUu3dCC7i3SbdnGYi09WibbDz+eZ5Ykq+dqOPOGWgAzVHyzbWR1BsfHp\u001b[6;1HE/+/O5ORcLMDOt3bwJolqqriHvl4PmJTon46+xpOI0njVnG/V6rv6unm56uxOle/mgK2GGAHbKve+zjl\u001b[7;1HI\u001b[24;80H\u001b[1;75H9\u001b[4;18HVbJarExLl62ZzvjAiIXMFjN5VG8mOZAjiv6f1QDyTcgnSW+P1J0Hr2Bl6THmCO+\u001b[5;1HCdiEEvukf6SSSSjGZlHJZnNiniJBmB8u7IvP2m4MkEqHL8kYE9yPGmt+LAsyHOT5iyMXcBlOER4TlAow\u001b[6;1Hs4zZmdF8dMNzq0Pix25j/w2OPeeFq+Pi1ZR8l4pG6/SNrln0Kt1U5h7oJMvUg9TgjLTN0vjDd0kzDwf\u001b[24;1H\u001b[2J\u001b[?47l\u001b8"
     ]
    }
   ],
   "source": [
    "!watch aws firehose put-record --delivery-stream-name price_hose --record Data=blob1 --profile fin-demo"
   ]
  },
  {
   "cell_type": "markdown",
   "metadata": {},
   "source": [
    "## Section-4: Testing the S3 buckets"
   ]
  },
  {
   "cell_type": "code",
   "execution_count": 48,
   "metadata": {},
   "outputs": [
    {
     "name": "stdout",
     "output_type": "stream",
     "text": [
      "2019-09-13 11:50:59         95 2019/09/13/10/price_hose-1-2019-09-13-10-49-56-cc80e41b-fffb-47cf-98c5-4d9b834506b1\n",
      "2019-09-13 11:54:08         30 2019/09/13/10/price_hose-1-2019-09-13-10-53-06-974d3f14-0d49-48ee-ae32-beab01097a84\n",
      "2019-09-13 12:05:09      39565 2019/09/13/11/price_hose-1-2019-09-13-11-04-07-569efc24-e66e-413e-bedb-87a525af5ebd\n",
      "2019-09-13 12:14:09    2297051 2019/09/13/11/price_hose-1-2019-09-13-11-13-07-f63566fd-f647-4cd9-a068-ea37e2ef7f0a\n",
      "2019-09-13 12:15:15    3148391 2019/09/13/11/price_hose-1-2019-09-13-11-14-13-f9c7a8c3-2cfd-41c9-b9ee-190c317e6d76\n",
      "2019-09-13 12:16:15     603992 2019/09/13/11/price_hose-1-2019-09-13-11-15-13-ad20aeb1-c684-4b17-8fa8-e08283391e19\n"
     ]
    }
   ],
   "source": [
    "!aws s3 ls s3://rsdg-fin-demo-price-eu-west-2/2019/09/ --recursive --profile fin-demo"
   ]
  },
  {
   "cell_type": "code",
   "execution_count": 49,
   "metadata": {},
   "outputs": [
    {
     "name": "stdout",
     "output_type": "stream",
     "text": [
      "{'2019/09/13/10/price_hose-1-2019-09-13-10-49-56-cc80e41b-fffb-47cf-98c5-4d9b834506b1': 95, '2019/09/13/10/price_hose-1-2019-09-13-10-53-06-974d3f14-0d49-48ee-ae32-beab01097a84': 30, '2019/09/13/11/price_hose-1-2019-09-13-11-04-07-569efc24-e66e-413e-bedb-87a525af5ebd': 39565, '2019/09/13/11/price_hose-1-2019-09-13-11-13-07-f63566fd-f647-4cd9-a068-ea37e2ef7f0a': 2297051, '2019/09/13/11/price_hose-1-2019-09-13-11-14-13-f9c7a8c3-2cfd-41c9-b9ee-190c317e6d76': 3148391, '2019/09/13/11/price_hose-1-2019-09-13-11-15-13-ad20aeb1-c684-4b17-8fa8-e08283391e19': 603992}\n"
     ]
    }
   ],
   "source": [
    "keysAndSizes = get_s3_keys(s3, bucket, 'price_hose' )\n",
    "print(keysAndSizes)"
   ]
  },
  {
   "cell_type": "code",
   "execution_count": 50,
   "metadata": {},
   "outputs": [
    {
     "name": "stdout",
     "output_type": "stream",
     "text": [
      "2019-09-13 12:15:32     804268 2019/09/13/11/transaction_hose-1-2019-09-13-11-14-30-87c9069e-1503-4809-889b-32eb2ee6d4bf\n",
      "2019-09-13 12:16:33     395612 2019/09/13/11/transaction_hose-1-2019-09-13-11-15-31-74e7b57a-8245-4042-9e29-5c49a7d8c897\n"
     ]
    }
   ],
   "source": [
    "!aws s3 ls s3://rsdg-fin-demo-transaction-eu-west-2/2019/09/ --recursive --profile fin-demo"
   ]
  },
  {
   "cell_type": "code",
   "execution_count": 51,
   "metadata": {},
   "outputs": [
    {
     "name": "stdout",
     "output_type": "stream",
     "text": [
      "{'2019/09/13/10/price_hose-1-2019-09-13-10-49-56-cc80e41b-fffb-47cf-98c5-4d9b834506b1': 95, '2019/09/13/10/price_hose-1-2019-09-13-10-53-06-974d3f14-0d49-48ee-ae32-beab01097a84': 30, '2019/09/13/11/price_hose-1-2019-09-13-11-04-07-569efc24-e66e-413e-bedb-87a525af5ebd': 39565, '2019/09/13/11/price_hose-1-2019-09-13-11-13-07-f63566fd-f647-4cd9-a068-ea37e2ef7f0a': 2297051, '2019/09/13/11/price_hose-1-2019-09-13-11-14-13-f9c7a8c3-2cfd-41c9-b9ee-190c317e6d76': 3148391, '2019/09/13/11/price_hose-1-2019-09-13-11-15-13-ad20aeb1-c684-4b17-8fa8-e08283391e19': 603992}\n"
     ]
    }
   ],
   "source": [
    "keysAndSizes = get_s3_keys(s3, bucket, 'price_hose' )\n",
    "print(keysAndSizes)"
   ]
  },
  {
   "cell_type": "markdown",
   "metadata": {},
   "source": [
    "## Next Steps\n",
    "* Configure the data to be loaded into AWS Athena\n",
    "* Build quicksight dashboard\n",
    "\n",
    "### Related notebooks\n",
    "* [00-Setup](./00_setup.ipynb) \n",
    "* [01-Process S3 using python](./01_Process_s3_files.ipynb)\n",
    "* [02-Visualization and Analytics](./02_Visualization_and_Analytics.ipynb)\n",
    "* [03-Risk Analytics](./03_Risk_Analytics.ipynb)\n",
    "* [04-Exploring Firehose,Athena and Quicksight](./04_Exploring_Kinesis_Firehose.ipynb)\n",
    "* [05-Athena and Quicksights](./05_Athena_Quicksight.ipynb)\n",
    "* [06-Sagemaker to run the notebooks](./06_Sagemaker_jupyterlab.ipynb)\n",
    "* [07_Transform stream data using Lambda](./07_Transform_lambda.ipynb)\n",
    "* [08_Move data to Redshift using Glue](./08_Glue_Redshift.ipynb)\n",
    "* [09_CI/CD Terrform with Travis CI](./09_Integrating_terraform_travisci.ipynb)"
   ]
  }
 ],
 "metadata": {
  "kernelspec": {
   "display_name": "Python 3",
   "language": "python",
   "name": "python3"
  },
  "language_info": {
   "codemirror_mode": {
    "name": "ipython",
    "version": 3
   },
   "file_extension": ".py",
   "mimetype": "text/x-python",
   "name": "python",
   "nbconvert_exporter": "python",
   "pygments_lexer": "ipython3",
   "version": "3.6.7"
  }
 },
 "nbformat": 4,
 "nbformat_minor": 4
}
