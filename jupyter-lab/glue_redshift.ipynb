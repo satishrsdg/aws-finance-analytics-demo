{
 "cells": [
  {
   "cell_type": "markdown",
   "metadata": {},
   "source": [
    "# AWS Glue and Redshift\n",
    "\n",
    "This section explores AWS Glue AWS managed data catalog and ETL service. AWS redshift is powerful datawarehouse. Here, we will use glue to build a data catalog, use its ETL functionality to move data to Redshift\n",
    "\n",
    "## TBC\n",
    "\n",
    "## TBC\n",
    "\n",
    "### Back\n",
    "* [00-Setup](https://github.com/satishrsdg/aws-finance-analytics-demo/blob/master/markdown/setup.md/markdown/setup.md)"
   ]
  }
 ],
 "metadata": {
  "kernelspec": {
   "display_name": "Python 3",
   "language": "python",
   "name": "python3"
  },
  "language_info": {
   "codemirror_mode": {
    "name": "ipython",
    "version": 3
   },
   "file_extension": ".py",
   "mimetype": "text/x-python",
   "name": "python",
   "nbconvert_exporter": "python",
   "pygments_lexer": "ipython3",
   "version": "3.6.7"
  }
 },
 "nbformat": 4,
 "nbformat_minor": 4
}
