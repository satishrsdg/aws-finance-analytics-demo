{
 "cells": [
  {
   "cell_type": "markdown",
   "metadata": {},
   "source": [
    "# Lambda\n",
    "\n",
    "Lambda s AWS serverles computing functionality. This section explores how we can combine Lambda with Streams to transform data in realtime\n",
    "\n",
    "## TBC\n",
    "\n",
    "## TBC\n",
    "\n",
    "### Back\n",
    "* [00-Setup](https://github.com/satishrsdg/aws-finance-analytics-demo/blob/master/markdown/setup.md/markdown/setup.md)"
   ]
  }
 ],
 "metadata": {
  "kernelspec": {
   "display_name": "Python 3",
   "language": "python",
   "name": "python3"
  },
  "language_info": {
   "codemirror_mode": {
    "name": "ipython",
    "version": 3
   },
   "file_extension": ".py",
   "mimetype": "text/x-python",
   "name": "python",
   "nbconvert_exporter": "python",
   "pygments_lexer": "ipython3",
   "version": "3.6.7"
  }
 },
 "nbformat": 4,
 "nbformat_minor": 4
}
