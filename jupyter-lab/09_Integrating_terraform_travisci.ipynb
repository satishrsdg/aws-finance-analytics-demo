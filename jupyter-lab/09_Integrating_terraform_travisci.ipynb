{
 "cells": [
  {
   "cell_type": "markdown",
   "metadata": {},
   "source": [
    "# CI/CD: Terraform with Travis CI\n",
    "\n",
    "This section explores how to combine Terraform with Travis CI to demonstrate code integration and code deployment\n",
    "\n",
    "## TBC\n",
    "\n",
    "## TBC\n",
    "\n",
    "### Related notebooks\n",
    "* [00-Setup](./00_setup.ipynb) \n",
    "* [01-Process S3 using python](./01_Process_s3_files.ipynb)\n",
    "* [02-Visualization and Analytics](./02_Visualization_and_Analytics.ipynb)\n",
    "* [03-Risk Analytics](./03_Risk_Analytics.ipynb)\n",
    "* [04-Exploring Firehose,Athena and Quicksight](./04_Exploring_Kinesis_Firehose.ipynb)\n",
    "* [05-Athena and Quicksights](./05_Athena_Quicksight.ipynb)\n",
    "* [06-Sagemaker to run the notebooks](./06_Sagemaker_jupyterlab.ipynb)\n",
    "* [07_Transform stream data using Lambda](./07_Transform_lambda.ipynb)\n",
    "* [08_Move data to Redshift using Glue](./08_Glue_Redshift.ipynb)\n",
    "* [09_CI/CD Terrform with Travis CI](./09_Integrating_terraform_travisci.ipynb)"
   ]
  }
 ],
 "metadata": {
  "kernelspec": {
   "display_name": "Python 3",
   "language": "python",
   "name": "python3"
  },
  "language_info": {
   "codemirror_mode": {
    "name": "ipython",
    "version": 3
   },
   "file_extension": ".py",
   "mimetype": "text/x-python",
   "name": "python",
   "nbconvert_exporter": "python",
   "pygments_lexer": "ipython3",
   "version": "3.6.7"
  }
 },
 "nbformat": 4,
 "nbformat_minor": 4
}
