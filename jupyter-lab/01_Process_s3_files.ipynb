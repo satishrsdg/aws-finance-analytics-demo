{
 "cells": [
  {
   "cell_type": "markdown",
   "metadata": {},
   "source": [
    "# Analysis of S3 objects using Python\n",
    "\n",
    "**Data Set**\n",
    "[Kagggle Financial Data Set](https://www.kaggle.com/borismarjanovic/price-volume-data-for-all-us-stocks-etfs/downloads/price-volume-data-for-all-us-stocks-etfs.zip/3)\n",
    "_Note:_ Only \"\"aapl\" and \"ge\" uploaded\n",
    "\n",
    "This demo shows the following:\n",
    "* List objects in an S3 bucket\n",
    "* Use python Boto3 package to programmatically connect to S3 and process objects\n",
    "* Use pandas to calculate the size of the folders\n",
    "* Load the files into dataframe\n",
    "\n",
    "------------\n",
    "## List the folders in s3 bucket"
   ]
  },
  {
   "cell_type": "markdown",
   "metadata": {},
   "source": [
    "!aws s3 ls --profile fin-demo\n",
    "2019-09-13 11:16:34 rsdg-fin-demo-price-eu-west-2\n",
    "2019-09-13 11:16:34 rsdg-fin-demo-reference-eu-west-2\n",
    "2019-09-13 11:16:34 rsdg-fin-demo-transaction-eu-west-2\n",
    "2019-09-12 23:18:23 rsdg-s3-bucket-fin-demo"
   ]
  },
  {
   "cell_type": "markdown",
   "metadata": {},
   "source": [
    "****\n",
    "## List the files in the **rsdg-s3-bucket-fin-demo**"
   ]
  },
  {
   "cell_type": "code",
   "execution_count": 1,
   "metadata": {},
   "outputs": [
    {
     "name": "stdout",
     "output_type": "stream",
     "text": [
      "2019-09-12 23:18:25     428286 aapl.us.txt\n",
      "2019-09-12 23:18:25     705515 ge.us.txt\n"
     ]
    }
   ],
   "source": [
    "!aws s3 ls s3://rsdg-s3-bucket-fin-demo/ --profile fin-demo"
   ]
  },
  {
   "cell_type": "markdown",
   "metadata": {},
   "source": [
    "****\n",
    "## Use boto3 package to query the s3 bucket "
   ]
  },
  {
   "cell_type": "code",
   "execution_count": 2,
   "metadata": {},
   "outputs": [
    {
     "data": {
      "text/plain": [
       "{'ResponseMetadata': {'RequestId': 'E4329C18BC3A2C07',\n",
       "  'HostId': 'imPxZotDfw9igaLxSRGcuTMcSItx3ri0IuiNI2nvpjCNO8kzzSP/5fiL4XrzCRYRGetgPEt8hHQ=',\n",
       "  'HTTPStatusCode': 200,\n",
       "  'HTTPHeaders': {'x-amz-id-2': 'imPxZotDfw9igaLxSRGcuTMcSItx3ri0IuiNI2nvpjCNO8kzzSP/5fiL4XrzCRYRGetgPEt8hHQ=',\n",
       "   'x-amz-request-id': 'E4329C18BC3A2C07',\n",
       "   'date': 'Fri, 13 Sep 2019 10:38:29 GMT',\n",
       "   'x-amz-bucket-region': 'eu-west-2',\n",
       "   'content-type': 'application/xml',\n",
       "   'transfer-encoding': 'chunked',\n",
       "   'server': 'AmazonS3'},\n",
       "  'RetryAttempts': 0},\n",
       " 'IsTruncated': False,\n",
       " 'Contents': [{'Key': 'aapl.us.txt',\n",
       "   'LastModified': datetime.datetime(2019, 9, 12, 22, 18, 25, tzinfo=tzutc()),\n",
       "   'ETag': '\"fb1a8522d092533204e9c49bf6aef44f\"',\n",
       "   'Size': 428286,\n",
       "   'StorageClass': 'STANDARD'},\n",
       "  {'Key': 'ge.us.txt',\n",
       "   'LastModified': datetime.datetime(2019, 9, 12, 22, 18, 25, tzinfo=tzutc()),\n",
       "   'ETag': '\"8687f5de7acb53fc802b12d1fc4fd3fa\"',\n",
       "   'Size': 705515,\n",
       "   'StorageClass': 'STANDARD'}],\n",
       " 'Name': 'rsdg-s3-bucket-fin-demo',\n",
       " 'Prefix': '',\n",
       " 'MaxKeys': 1000,\n",
       " 'EncodingType': 'url',\n",
       " 'KeyCount': 2}"
      ]
     },
     "execution_count": 2,
     "metadata": {},
     "output_type": "execute_result"
    }
   ],
   "source": [
    "import boto3\n",
    "\n",
    "_session = boto3.Session(profile_name='fin-demo')\n",
    "s3 = _session.client('s3')\n",
    "s3.list_objects_v2(Bucket='rsdg-s3-bucket-fin-demo')"
   ]
  },
  {
   "cell_type": "markdown",
   "metadata": {},
   "source": [
    "****\n",
    "## Process boto3 json to build a dictionary of files and objects"
   ]
  },
  {
   "cell_type": "code",
   "execution_count": 3,
   "metadata": {},
   "outputs": [
    {
     "name": "stdout",
     "output_type": "stream",
     "text": [
      "{'aapl.us.txt': 428286, 'ge.us.txt': 705515}\n"
     ]
    }
   ],
   "source": [
    "def get_s3_keys(bucket):\n",
    "    \"\"\"Get a list of keys in an S3 bucket.\"\"\"\n",
    "    _keys = {}\n",
    "    resp = s3.list_objects_v2(Bucket=bucket)\n",
    "    for obj in resp['Contents']:\n",
    "        _key = obj['Key']\n",
    "        _size = obj['Size']\n",
    "        _keys[_key] = _size\n",
    "    return _keys\n",
    "\n",
    "keysAndSizes = {}\n",
    "keysAndSizes = get_s3_keys('rsdg-s3-bucket-fin-demo')\n",
    "print(keysAndSizes)"
   ]
  },
  {
   "cell_type": "markdown",
   "metadata": {},
   "source": [
    "****\n",
    "## Load the dictionary into a pandas dataframe"
   ]
  },
  {
   "cell_type": "code",
   "execution_count": 4,
   "metadata": {},
   "outputs": [
    {
     "data": {
      "text/html": [
       "<div>\n",
       "<style scoped>\n",
       "    .dataframe tbody tr th:only-of-type {\n",
       "        vertical-align: middle;\n",
       "    }\n",
       "\n",
       "    .dataframe tbody tr th {\n",
       "        vertical-align: top;\n",
       "    }\n",
       "\n",
       "    .dataframe thead th {\n",
       "        text-align: right;\n",
       "    }\n",
       "</style>\n",
       "<table border=\"1\" class=\"dataframe\">\n",
       "  <thead>\n",
       "    <tr style=\"text-align: right;\">\n",
       "      <th></th>\n",
       "      <th>FileName</th>\n",
       "      <th>Size</th>\n",
       "    </tr>\n",
       "  </thead>\n",
       "  <tbody>\n",
       "    <tr>\n",
       "      <td>0</td>\n",
       "      <td>aapl.us.txt</td>\n",
       "      <td>428286</td>\n",
       "    </tr>\n",
       "    <tr>\n",
       "      <td>1</td>\n",
       "      <td>ge.us.txt</td>\n",
       "      <td>705515</td>\n",
       "    </tr>\n",
       "  </tbody>\n",
       "</table>\n",
       "</div>"
      ],
      "text/plain": [
       "      FileName    Size\n",
       "0  aapl.us.txt  428286\n",
       "1    ge.us.txt  705515"
      ]
     },
     "execution_count": 4,
     "metadata": {},
     "output_type": "execute_result"
    }
   ],
   "source": [
    "import pandas as pd\n",
    "pdKeysAndSizes = pd.DataFrame(list(keysAndSizes.items()))\n",
    "pdKeysAndSizes.columns = ['FileName', 'Size']\n",
    "pdKeysAndSizes"
   ]
  },
  {
   "cell_type": "markdown",
   "metadata": {},
   "source": [
    "****\n",
    "## Use pandas to count the number of files and total size of files"
   ]
  },
  {
   "cell_type": "code",
   "execution_count": 5,
   "metadata": {},
   "outputs": [
    {
     "name": "stdout",
     "output_type": "stream",
     "text": [
      "Number of files: 2; Total size of files (MB): 1.0812768936157227\n"
     ]
    }
   ],
   "source": [
    "print(\"Number of files: %s; Total size of files (MB): %s\" % (pdKeysAndSizes.count()['FileName'],\n",
    "                                                        pdKeysAndSizes.sum(axis=0)['Size']/1024/1024\n",
    "                                                       ))"
   ]
  },
  {
   "cell_type": "markdown",
   "metadata": {},
   "source": [
    "## Sample the file to understand the structure"
   ]
  },
  {
   "cell_type": "code",
   "execution_count": 6,
   "metadata": {},
   "outputs": [
    {
     "name": "stdout",
     "output_type": "stream",
     "text": [
      "Date,Open,High,Low,Close,Volume,OpenInt\n",
      "\n",
      "1984-09-07,0.42388,0.42902,0.41874,0.42388,23220030,0\n",
      "\n",
      "1984-09-10,0.42388,0.42516,0.41366,0.42134,18022532,0\n",
      "\n",
      "1984-09-11,0.42516,0.43668,0.42516,0.42902,42498199,0\n",
      "\n",
      "1984-09-12,0.42902,0.43157,0.41618,0.41618,37125801,0\n",
      "\n",
      "1984-09-13,0.43927,0.44052,0.43927,0.43927,57822062,0\n",
      "\n",
      "1984-09-14,0.44052,0.45589,0.44052,0.44566,68847968,0\n",
      "\n",
      "1984-09-17,0.45718,0.46357,0.45718,0.45718,53755262,0\n",
      "\n",
      "1984-09-18,0.45718,0.46103,0.44052,0.44052,27136886,0\n",
      "\n"
     ]
    }
   ],
   "source": [
    "import smart_open as so\n",
    "ii = 0\n",
    "for line in so.open('s3://rsdg-s3-bucket-fin-demo/aapl.us.txt', transport_params=dict(session= _session) ):\n",
    "    ii += 1\n",
    "    if(ii < 10):\n",
    "        print(line)\n",
    "    else:\n",
    "        break"
   ]
  },
  {
   "cell_type": "markdown",
   "metadata": {},
   "source": [
    "## Load \"aapl\" file into data frame"
   ]
  },
  {
   "cell_type": "code",
   "execution_count": 7,
   "metadata": {},
   "outputs": [
    {
     "data": {
      "text/html": [
       "<div>\n",
       "<style scoped>\n",
       "    .dataframe tbody tr th:only-of-type {\n",
       "        vertical-align: middle;\n",
       "    }\n",
       "\n",
       "    .dataframe tbody tr th {\n",
       "        vertical-align: top;\n",
       "    }\n",
       "\n",
       "    .dataframe thead th {\n",
       "        text-align: right;\n",
       "    }\n",
       "</style>\n",
       "<table border=\"1\" class=\"dataframe\">\n",
       "  <thead>\n",
       "    <tr style=\"text-align: right;\">\n",
       "      <th></th>\n",
       "      <th>Date</th>\n",
       "      <th>Open</th>\n",
       "      <th>High</th>\n",
       "      <th>Low</th>\n",
       "      <th>Close</th>\n",
       "      <th>Volume</th>\n",
       "      <th>OpenInt</th>\n",
       "      <th>Stock</th>\n",
       "    </tr>\n",
       "  </thead>\n",
       "  <tbody>\n",
       "    <tr>\n",
       "      <td>0</td>\n",
       "      <td>1984-09-07</td>\n",
       "      <td>0.42388</td>\n",
       "      <td>0.42902</td>\n",
       "      <td>0.41874</td>\n",
       "      <td>0.42388</td>\n",
       "      <td>23220030</td>\n",
       "      <td>0</td>\n",
       "      <td>aapl.us</td>\n",
       "    </tr>\n",
       "    <tr>\n",
       "      <td>1</td>\n",
       "      <td>1984-09-10</td>\n",
       "      <td>0.42388</td>\n",
       "      <td>0.42516</td>\n",
       "      <td>0.41366</td>\n",
       "      <td>0.42134</td>\n",
       "      <td>18022532</td>\n",
       "      <td>0</td>\n",
       "      <td>aapl.us</td>\n",
       "    </tr>\n",
       "    <tr>\n",
       "      <td>2</td>\n",
       "      <td>1984-09-11</td>\n",
       "      <td>0.42516</td>\n",
       "      <td>0.43668</td>\n",
       "      <td>0.42516</td>\n",
       "      <td>0.42902</td>\n",
       "      <td>42498199</td>\n",
       "      <td>0</td>\n",
       "      <td>aapl.us</td>\n",
       "    </tr>\n",
       "    <tr>\n",
       "      <td>3</td>\n",
       "      <td>1984-09-12</td>\n",
       "      <td>0.42902</td>\n",
       "      <td>0.43157</td>\n",
       "      <td>0.41618</td>\n",
       "      <td>0.41618</td>\n",
       "      <td>37125801</td>\n",
       "      <td>0</td>\n",
       "      <td>aapl.us</td>\n",
       "    </tr>\n",
       "    <tr>\n",
       "      <td>4</td>\n",
       "      <td>1984-09-13</td>\n",
       "      <td>0.43927</td>\n",
       "      <td>0.44052</td>\n",
       "      <td>0.43927</td>\n",
       "      <td>0.43927</td>\n",
       "      <td>57822062</td>\n",
       "      <td>0</td>\n",
       "      <td>aapl.us</td>\n",
       "    </tr>\n",
       "    <tr>\n",
       "      <td>...</td>\n",
       "      <td>...</td>\n",
       "      <td>...</td>\n",
       "      <td>...</td>\n",
       "      <td>...</td>\n",
       "      <td>...</td>\n",
       "      <td>...</td>\n",
       "      <td>...</td>\n",
       "      <td>...</td>\n",
       "    </tr>\n",
       "    <tr>\n",
       "      <td>8359</td>\n",
       "      <td>2017-11-06</td>\n",
       "      <td>171.75000</td>\n",
       "      <td>174.36000</td>\n",
       "      <td>171.10000</td>\n",
       "      <td>173.63000</td>\n",
       "      <td>34901241</td>\n",
       "      <td>0</td>\n",
       "      <td>aapl.us</td>\n",
       "    </tr>\n",
       "    <tr>\n",
       "      <td>8360</td>\n",
       "      <td>2017-11-07</td>\n",
       "      <td>173.29000</td>\n",
       "      <td>174.51000</td>\n",
       "      <td>173.29000</td>\n",
       "      <td>174.18000</td>\n",
       "      <td>24424877</td>\n",
       "      <td>0</td>\n",
       "      <td>aapl.us</td>\n",
       "    </tr>\n",
       "    <tr>\n",
       "      <td>8361</td>\n",
       "      <td>2017-11-08</td>\n",
       "      <td>174.03000</td>\n",
       "      <td>175.61000</td>\n",
       "      <td>173.71000</td>\n",
       "      <td>175.61000</td>\n",
       "      <td>24451166</td>\n",
       "      <td>0</td>\n",
       "      <td>aapl.us</td>\n",
       "    </tr>\n",
       "    <tr>\n",
       "      <td>8362</td>\n",
       "      <td>2017-11-09</td>\n",
       "      <td>174.48000</td>\n",
       "      <td>175.46000</td>\n",
       "      <td>172.52000</td>\n",
       "      <td>175.25000</td>\n",
       "      <td>29533086</td>\n",
       "      <td>0</td>\n",
       "      <td>aapl.us</td>\n",
       "    </tr>\n",
       "    <tr>\n",
       "      <td>8363</td>\n",
       "      <td>2017-11-10</td>\n",
       "      <td>175.11000</td>\n",
       "      <td>175.38000</td>\n",
       "      <td>174.27000</td>\n",
       "      <td>174.67000</td>\n",
       "      <td>25130494</td>\n",
       "      <td>0</td>\n",
       "      <td>aapl.us</td>\n",
       "    </tr>\n",
       "  </tbody>\n",
       "</table>\n",
       "<p>8364 rows × 8 columns</p>\n",
       "</div>"
      ],
      "text/plain": [
       "            Date       Open       High        Low      Close    Volume  \\\n",
       "0     1984-09-07    0.42388    0.42902    0.41874    0.42388  23220030   \n",
       "1     1984-09-10    0.42388    0.42516    0.41366    0.42134  18022532   \n",
       "2     1984-09-11    0.42516    0.43668    0.42516    0.42902  42498199   \n",
       "3     1984-09-12    0.42902    0.43157    0.41618    0.41618  37125801   \n",
       "4     1984-09-13    0.43927    0.44052    0.43927    0.43927  57822062   \n",
       "...          ...        ...        ...        ...        ...       ...   \n",
       "8359  2017-11-06  171.75000  174.36000  171.10000  173.63000  34901241   \n",
       "8360  2017-11-07  173.29000  174.51000  173.29000  174.18000  24424877   \n",
       "8361  2017-11-08  174.03000  175.61000  173.71000  175.61000  24451166   \n",
       "8362  2017-11-09  174.48000  175.46000  172.52000  175.25000  29533086   \n",
       "8363  2017-11-10  175.11000  175.38000  174.27000  174.67000  25130494   \n",
       "\n",
       "      OpenInt    Stock  \n",
       "0           0  aapl.us  \n",
       "1           0  aapl.us  \n",
       "2           0  aapl.us  \n",
       "3           0  aapl.us  \n",
       "4           0  aapl.us  \n",
       "...       ...      ...  \n",
       "8359        0  aapl.us  \n",
       "8360        0  aapl.us  \n",
       "8361        0  aapl.us  \n",
       "8362        0  aapl.us  \n",
       "8363        0  aapl.us  \n",
       "\n",
       "[8364 rows x 8 columns]"
      ]
     },
     "execution_count": 7,
     "metadata": {},
     "output_type": "execute_result"
    }
   ],
   "source": [
    "\n",
    "equity_df = pd.read_csv(so.open('s3://rsdg-s3-bucket-fin-demo/aapl.us.txt', transport_params=dict(session= _session) ))\n",
    "equity_df['Stock']='aapl.us.txt'.replace('.txt','')\n",
    "equity_df"
   ]
  },
  {
   "cell_type": "markdown",
   "metadata": {},
   "source": [
    "## Load the files into data frame"
   ]
  },
  {
   "cell_type": "code",
   "execution_count": 8,
   "metadata": {},
   "outputs": [
    {
     "name": "stdout",
     "output_type": "stream",
     "text": [
      "             Date      Open      High       Low     Close     Volume  OpenInt  \\\n",
      "0      1984-09-07   0.42388   0.42902   0.41874   0.42388   23220030        0   \n",
      "1      1984-09-10   0.42388   0.42516   0.41366   0.42134   18022532        0   \n",
      "2      1984-09-11   0.42516   0.43668   0.42516   0.42902   42498199        0   \n",
      "3      1984-09-12   0.42902   0.43157   0.41618   0.41618   37125801        0   \n",
      "4      1984-09-13   0.43927   0.44052   0.43927   0.43927   57822062        0   \n",
      "...           ...       ...       ...       ...       ...        ...      ...   \n",
      "22417  2017-11-06  20.52000  20.53000  20.08000  20.13000   60641787        0   \n",
      "22418  2017-11-07  20.17000  20.25000  20.12000  20.21000   41622851        0   \n",
      "22419  2017-11-08  20.21000  20.32000  20.07000  20.12000   39672190        0   \n",
      "22420  2017-11-09  20.04000  20.07100  19.85000  19.99000   50831779        0   \n",
      "22421  2017-11-10  19.98000  20.68000  19.90000  20.49000  100698474        0   \n",
      "\n",
      "         Stock  \n",
      "0      aapl.us  \n",
      "1      aapl.us  \n",
      "2      aapl.us  \n",
      "3      aapl.us  \n",
      "4      aapl.us  \n",
      "...        ...  \n",
      "22417    ge.us  \n",
      "22418    ge.us  \n",
      "22419    ge.us  \n",
      "22420    ge.us  \n",
      "22421    ge.us  \n",
      "\n",
      "[22422 rows x 8 columns]\n"
     ]
    }
   ],
   "source": [
    "combined_equity_df = pd.DataFrame()\n",
    "\n",
    "for key in keysAndSizes:\n",
    "    file = 's3://rsdg-s3-bucket-fin-demo/' + key\n",
    "    single_equity_df = pd.DataFrame()\n",
    "    single_equity_df = pd.read_csv(so.open(file, transport_params=dict(session= _session) ))\n",
    "    single_equity_df['Stock'] = key.replace('.txt','')\n",
    "    combined_equity_df = combined_equity_df.append(single_equity_df, ignore_index=True)\n",
    "        \n",
    "print(combined_equity_df)"
   ]
  },
  {
   "cell_type": "markdown",
   "metadata": {},
   "source": [
    "### Related notebooks\n",
    "* [00-Setup](./00_setup.ipynb)\n",
    "* [01-Process S3 using python](./01_Process_s3_files.ipynb)\n",
    "* [02-Visualization and Analytics](./02_Visualization_and_Analytics.ipynb)\n",
    "* [03-Risk Analytics](./03_Risk_Analytics.ipynb)\n",
    "* [04-Exploring Firehose,Athena and Quicksight](./04_Exploring_Kinesis_Firehose.ipynb)\n",
    "* [05-Athena and Quicksights](./05_Athena_Quicksight.ipynb)\n",
    "* [06-Sagemaker to run the notebooks](./06_Sagemaker_jupyterlab.ipynb)\n",
    "* [07_Transform stream data using Lambda](./07_Transform_lambda.ipynb)\n",
    "* [08_Move data to Redshift using Glue](./08_Glue_Redshift.ipynb)\n",
    "* [09_CI/CD Terrform with Travis CI](./09_Integrating_terraform_travisci.ipynb)"
   ]
  }
 ],
 "metadata": {
  "kernelspec": {
   "display_name": "Python 3",
   "language": "python",
   "name": "python3"
  },
  "language_info": {
   "codemirror_mode": {
    "name": "ipython",
    "version": 3
   },
   "file_extension": ".py",
   "mimetype": "text/x-python",
   "name": "python",
   "nbconvert_exporter": "python",
   "pygments_lexer": "ipython3",
   "version": "3.6.7"
  }
 },
 "nbformat": 4,
 "nbformat_minor": 4
}
