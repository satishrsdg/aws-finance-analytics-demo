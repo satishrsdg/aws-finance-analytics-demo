{
 "cells": [
  {
   "cell_type": "markdown",
   "metadata": {},
   "source": [
    "# CI/CD: Terraform with Travis CI\n",
    "\n",
    "This section explores how to combine Terraform with Travis CI to demonstrate code integration and code deployment\n",
    "\n",
    "## TBC\n",
    "\n",
    "## TBC\n",
    "\n",
    "### Back\n",
    "* [00-Setup](https://github.com/satishrsdg/aws-finance-analytics-demo/blob/master/markdown/setup.md/markdown/setup.md)"
   ]
  }
 ],
 "metadata": {
  "kernelspec": {
   "display_name": "Python 3",
   "language": "python",
   "name": "python3"
  },
  "language_info": {
   "codemirror_mode": {
    "name": "ipython",
    "version": 3
   },
   "file_extension": ".py",
   "mimetype": "text/x-python",
   "name": "python",
   "nbconvert_exporter": "python",
   "pygments_lexer": "ipython3",
   "version": "3.6.7"
  }
 },
 "nbformat": 4,
 "nbformat_minor": 4
}
