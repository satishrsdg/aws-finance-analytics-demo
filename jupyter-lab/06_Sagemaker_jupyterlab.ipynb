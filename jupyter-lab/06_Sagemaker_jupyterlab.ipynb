{
 "cells": [
  {
   "cell_type": "markdown",
   "metadata": {},
   "source": [
    "# Sagemaker \n",
    "\n",
    "Sagemaker is AWS platform for Datascience. Jupyter Lab is a datascience IDE and workbench. In this section we will roll-out sagemaker and demonstrate how the notebooks in this demonstration can be run of AWS instead of local machine\n",
    "\n",
    "## TBC\n",
    "\n",
    "## TBC\n",
    "\n",
    "### Back to readme\n",
    "* [Readme](https://github.com/satishrsdg/aws-finance-analytics-demo)"
   ]
  }
 ],
 "metadata": {
  "kernelspec": {
   "display_name": "Python 3",
   "language": "python",
   "name": "python3"
  },
  "language_info": {
   "codemirror_mode": {
    "name": "ipython",
    "version": 3
   },
   "file_extension": ".py",
   "mimetype": "text/x-python",
   "name": "python",
   "nbconvert_exporter": "python",
   "pygments_lexer": "ipython3",
   "version": "3.6.7"
  }
 },
 "nbformat": 4,
 "nbformat_minor": 4
}
